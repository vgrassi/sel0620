{
  "nbformat": 4,
  "nbformat_minor": 0,
  "metadata": {
    "colab": {
      "name": "sel0620_tarefa4_python.ipynb",
      "provenance": [],
      "collapsed_sections": [],
      "authorship_tag": "ABX9TyMt9YyBMifsjSMz+g6UJa5G"
    },
    "kernelspec": {
      "name": "python3",
      "display_name": "Python 3"
    },
    "language_info": {
      "name": "python"
    }
  },
  "cells": [
    {
      "cell_type": "markdown",
      "metadata": {
        "id": "KZZqHvJOyvoe"
      },
      "source": [
        "# SEL0620 - Controle Digital\n",
        "\n",
        "**Nome do(s) Aluno(s):** \n",
        "\n",
        "**N.USP:** \n",
        "\n",
        "**Exercício Individual ou em dupla. Peso 1.**\n"
      ]
    },
    {
      "cell_type": "markdown",
      "metadata": {
        "id": "kck9J2i5Qz4Q"
      },
      "source": [
        "## Preparação do ambiente do Colab\n",
        "\n",
        "Instala a biblioteca de controle "
      ]
    },
    {
      "cell_type": "code",
      "metadata": {
        "id": "iAlcQkldyy4_"
      },
      "source": [
        "# !pip install slycot # biblioteca opcional\n",
        "!pip install control --quiet "
      ],
      "execution_count": null,
      "outputs": []
    },
    {
      "cell_type": "markdown",
      "metadata": {
        "id": "fRn18DmJzYmp"
      },
      "source": [
        "Carrega bibiotecas "
      ]
    },
    {
      "cell_type": "code",
      "metadata": {
        "id": "nB5sDg-5yMnt"
      },
      "source": [
        "import os\n",
        "import numpy as np\n",
        "import matplotlib.pyplot as plt\n",
        "from math import pi\n",
        "import control as ct\n",
        "from control.matlab import *"
      ],
      "execution_count": null,
      "outputs": []
    },
    {
      "cell_type": "markdown",
      "metadata": {
        "id": "Xek0kYr-tE6i"
      },
      "source": [
        "Coloque a seguir as definições das funções implementadas em práticas anteriores que você deseja utilizar nesta prática:"
      ]
    },
    {
      "cell_type": "code",
      "metadata": {
        "id": "HStnb4c_tQsv"
      },
      "source": [
        "# Insira a definição das funções implementadas em práticas anteriores que serão utilizadas nesta prática\n"
      ],
      "execution_count": null,
      "outputs": []
    },
    {
      "cell_type": "markdown",
      "metadata": {
        "id": "S1gBi6LuRwB4"
      },
      "source": [
        "## Projeto de Controladores\n",
        "\n",
        "Considere o sistema de segunda ordem utilizado nas práticas anteriores e representado pela função de transferência:\n",
        "\n",
        "$$ G_p(s) = K \\frac{w_n^2}{s^2 + 2 \\zeta w_n s + w_n^2} $$\n",
        "\n",
        "Utilize os parâmetros $K$, $\\zeta$, e $w_n$ indicados na tabela disponível no Moodle, de acordo com o N.USP de um dos integrantes do grupo. Utilize os mesmos parâmetros da prática anterior para dar continuidade ao projeto.\n",
        "\n"
      ]
    },
    {
      "cell_type": "markdown",
      "metadata": {
        "id": "5nCzYqSopmsJ"
      },
      "source": [
        "### Controle Proporcional Contínuo\n",
        "\n",
        "Nesta etapa, um controlador proporcional $C(s) = K_p$ será projetado para controlar o sistema em malha fechada. A Figura 1 mostra o diagrama contínuo de controle com realimentação unitária em que a planta está sujeita a um distúrbio na entrada.\n",
        "\n"
      ]
    },
    {
      "cell_type": "markdown",
      "metadata": {
        "id": "OaFLNz-zbv18"
      },
      "source": [
        "![malha_realimentacao.png](data:image/png;base64,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)\n",
        "\n",
        "Figura 1 - Sistema de malha fechada com realimentação unitária"
      ]
    },
    {
      "cell_type": "markdown",
      "metadata": {
        "id": "x_MSsICfbLRO"
      },
      "source": [
        "Desconsiderando o distúrbio na entrada da planta, a função contínua de malha fechada do sistema é dada por:\n",
        "\\begin{align*}\n",
        "& G_{MF}(s) = \\frac{Y(s)}{R(s)} = \\frac{C(s)G_p(s)}{1+C(s)G_p(s)}\n",
        "\\end{align*}\n",
        "\n",
        "O erro do sistema em relação ao sinal de referência da malha fechada é dado por:\n",
        "\\begin{align*}\n",
        "& E(s) = R(s) - Y(s) = R(s)\\left(1 - \\frac{C(s)G_p(s)}{1+C(s)G_p(s)}\\right) = \\frac{R(s)}{1+C(s)G_p(s)}\n",
        "\\end{align*}\n",
        "\n",
        "Portanto, para um sinal de referência do tipo degrau de amplitude $u$: \n",
        "\\begin{align*}\n",
        "& R(s) = \\frac{u}{s}\n",
        "\\end{align*}\n",
        "e o erro pode ser dado por:\n",
        "\\begin{align*}\n",
        "& E(s) =  \\frac{u}{s(1+C(s)G_p(s))}\n",
        "\\end{align*}\n",
        "\n",
        "O erro em regime permanente em valor absoluto, desconsiderando distúrbio na entrada da planta, considerando uma entrada degrau de ampliture $u$, a planta do sistema de segunda ordem $G_p(s)$, e controlador proporcional $C(s) = K_p$, pode ser calculado através do teorema do valor final:\n",
        "\\begin{align*}\n",
        "& e_{ss} = \\lim_{t \\rightarrow \\infty} e(t) = \\lim_{s \\rightarrow 0} s E(s) = \\frac{u}{(1+K K_p)}\n",
        "\\end{align*}"
      ]
    },
    {
      "cell_type": "markdown",
      "metadata": {
        "id": "-FrrKX3YdCuO"
      },
      "source": [
        "### Implementação das funções para simular a malha fechada\n",
        "\n",
        "A partir desta prática, ao se trabalhar com sistemas de malha fechada, é importante mostrar os seguintes sinais indicados na Figura 1:\n",
        "\n",
        "* Referência, $r(t)$, que é o sinal de entrada do sistema de malha fechada que serve como referência a ser seguida pelo sistema. Ou seja, deseja-se que o sinal de saída $y(t)$ seja o mais próximo possível, ou até mesmo igual a $r(t)$;\n",
        "\n",
        "* Saída da planta, $y(t)$, é o sinal que se deseja controlar, de interesse para o problema de controle, e portanto será medido por um sensor e realimentado para comparação com o sinal de referência. A saída da planta $G_p(s)$ geralmente é a saída do sistema de malha fechada.\n",
        "\n",
        "* Erro do sistema, $e(t)$, é a diferença entre a referência e a saída da planta, ou seja, $y(t) = r(t) - y(t)$. Para sistemas com realimentação unitária, o sinal de erro é a saída do comparador.\n",
        "\n",
        "* Sinal de controle, $u(t)$, é o sinal gerado pelo controlador, ou seja, a saída de $C(s)$.\n",
        "\n",
        "* Distúrbio na entrada da planta, $d(s)$, é um sinal que pode ser adicionado ao sinal de controle antes da entrada na planta. Geralmente é utilizado para simular e testar a capacidade do sistema de malha fechada de seguir a referência mesmo em condições diferentes da ideal.\n",
        "\n",
        "* Entrada na planta, $u_d(t) = u(t) + d(t)$.\n",
        "\n",
        "Os sinais $r(t)$ e $d(t)$ em geral são definidos e fornecidos ao sistema para a simulação.\n",
        "\n",
        "Os sinais sinais de erro $e(t)= r(t) - y(t)$, e o sinal de entrada na planta $u_d(t) = u(t) + d(t)$, são facilmente obtidos a partir de $r(t)$, $d(t)$, $y(t)$, e $u(t)$.\n",
        "\n",
        "Entretanto, os sinais $u(t)$ e $y(t)$ devem ser gerados de forma apropriada para a simulação. Nesta tarefa, o distúrbio $d(t)$ será desconsiderado."
      ]
    },
    {
      "cell_type": "markdown",
      "metadata": {
        "id": "wtdBwvhUnRy5"
      },
      "source": [
        "#### Saída do sistema desconsiderando distúrbio\n",
        "\n",
        "Desconsiderando o distúrbio, a função de transferência que relaciona a saída e a referência do sistema de malha fechada é dada por:\n",
        "\n",
        "$$ G_{mf}(s) = \\frac{Y(s)}{R(s)} = \\frac{C(s) G_p(s)}{1+C(s)G_p(s)}$$\n",
        "\n",
        "Ela pode ser implementada na biblioteca de controle em Python utilizando o comando [`feedback`](https://python-control.readthedocs.io/en/0.9.0/generated/control.matlab.feedback.html#control.matlab.feedback) ou manipulando algebircamente as funções de transferência.\n",
        "\n",
        "A seguir implemente uma função que dado o controlador e a planta, retorna a função de transferência $Y(s)/R(s)$.\n"
      ]
    },
    {
      "cell_type": "code",
      "metadata": {
        "id": "bPfhqM39qBIM"
      },
      "source": [
        "def ft_saida_referencia(ft_planta,ft_controlador):\n",
        "  # Insira o seu código aqui\n",
        "\n",
        "  return ft_r2y"
      ],
      "execution_count": null,
      "outputs": []
    },
    {
      "cell_type": "markdown",
      "metadata": {
        "id": "KhJFfoY0ppZy"
      },
      "source": [
        "#### Sinal de controle desconsiderando distúrbio\n",
        "\n",
        "Desconsiderando o distúrbio, encontre a função de transferência que relaciona o sinal de controle $U(s)$ com a referência do sistema de malha fechada $R(s)$:\n",
        "\n",
        "$$ \\frac{U(s)}{R(s)} = ? $$\n",
        "\n",
        "Implemente em python a função de transferência encontrada:\n"
      ]
    },
    {
      "cell_type": "code",
      "metadata": {
        "id": "eI4Fahf6q2sh"
      },
      "source": [
        "def ft_controle_referencia(ft_planta,ft_controlador):\n",
        "  # Insira o seu código aqui\n",
        "  \n",
        "  return ft_r2u"
      ],
      "execution_count": null,
      "outputs": []
    },
    {
      "cell_type": "markdown",
      "metadata": {
        "id": "jn-FUYu9Z2op"
      },
      "source": [
        "### Projeto e Simulação\n",
        "\n",
        "\n",
        "#### Caso 1:\n",
        "\n",
        "Considere um controlador proporcional $C(s) = K_p = 1$, e obtenha os seguintes sinais para o sistema de malha fechada da Figura 1, desconsiderando disturbio, ou seja, para $d = 0$:\n",
        "\n",
        "1. Saída do sistema, $y(t)$, sobreposta com a referência degrau unitário, r(t) = 1(t), mostrando as características de desempenho da resposta de malha fechada (ver tarefa 2)."
      ]
    },
    {
      "cell_type": "code",
      "metadata": {
        "id": "m5Ab2P6Os6W3"
      },
      "source": [
        "# Insira o seu código aqui"
      ],
      "execution_count": null,
      "outputs": []
    },
    {
      "cell_type": "markdown",
      "metadata": {
        "id": "eZsQdsPfuhPm"
      },
      "source": [
        "* Relacione a seguir os valores de cada uma das características de desempenho da curva de saída de malha fechada, ou seja, da resposta de malha fechada a uma entrada degrau (ver tarefa 2):\n",
        "\n",
        "* $c_{final} = ?$\n",
        "* $c_{max} = ?$\n",
        "* $T_r = ?$\n",
        "* $T_s = ?$\n",
        "* $T_p = ?$\n",
        "* $M_p = ?$\n",
        "\n",
        "---\n",
        "\n",
        "\n",
        "\n"
      ]
    },
    {
      "cell_type": "markdown",
      "metadata": {
        "id": "6DnIIH23tsWf"
      },
      "source": [
        "2. Sinal de erro, $e(t)$:"
      ]
    },
    {
      "cell_type": "code",
      "metadata": {
        "id": "oOG9P_b2uDXr"
      },
      "source": [
        "# Insira o seu código aqui"
      ],
      "execution_count": null,
      "outputs": []
    },
    {
      "cell_type": "markdown",
      "metadata": {
        "id": "ssZybnRhuFy_"
      },
      "source": [
        "* Valor final do sinal do erro: <coloque sua resposta aqui>\n",
        "* Porcentagem do erro em relação ao valor de entrada: <coloque sua resposta aqui>\n",
        "\n",
        "\n",
        "\n",
        "---\n",
        "\n"
      ]
    },
    {
      "cell_type": "markdown",
      "metadata": {
        "id": "YTuzuwcSxY7a"
      },
      "source": [
        "3. Sinal de controle, $u(t)$:"
      ]
    },
    {
      "cell_type": "code",
      "metadata": {
        "id": "UL2AwBv6xdIr"
      },
      "source": [
        "# Insira o seu código aqui"
      ],
      "execution_count": null,
      "outputs": []
    },
    {
      "cell_type": "markdown",
      "metadata": {
        "id": "OIG82DgbxfT8"
      },
      "source": [
        "* Valor máximo do módulo do sinal de controle: <coloque sua resposta aqui>\n",
        "\n",
        "\n",
        "\n",
        "---\n",
        "\n"
      ]
    },
    {
      "cell_type": "markdown",
      "metadata": {
        "id": "0qr2_WW6vnIA"
      },
      "source": [
        "#### Caso 2:\n",
        "\n",
        "Considere um controlador proporcional $C(s) = K_p = 5$, e obtenha os seguintes sinais para o sistema de malha fechada da Figura 1, desconsiderando disturbio, ou seja, para $d = 0$:\n",
        "\n",
        "1. Saída do sistema, $y(t)$, sobreposta com a referência degrau unitário, r(t) = 1(t). Características de desempenho da resposta de malha fechada.\n",
        "\n",
        "2. Sinal de erro, $e(t)$. Valor final do sinal do erro. Porcentagem do erro em relação ao valor de entrada.\n",
        "\n",
        "3. Sinal de controle, $u(t)$. Valor máximo do módulo do sinal de controle.\n",
        "\n",
        "\n",
        "\n"
      ]
    },
    {
      "cell_type": "code",
      "metadata": {
        "id": "ku0FkqY925Ir"
      },
      "source": [
        "# Insira o seu código aqui"
      ],
      "execution_count": null,
      "outputs": []
    },
    {
      "cell_type": "markdown",
      "metadata": {
        "id": "r-7Yf15PxMWu"
      },
      "source": [
        "---\n",
        "\n",
        "#### Caso 3\n",
        "\n",
        "Considere um controlador proporcional $C(s) = K_p = 8$, e obtenha os seguintes sinais para o sistema de malha fechada da Figura 1, desconsiderando disturbio, ou seja, para $d = 0$:\n",
        "\n",
        "1. Saída do sistema, $y(t)$, sobreposta com a referência degrau unitário, r(t) = 1(t). Características de desempenho da resposta de malha fechada.\n",
        "\n",
        "2. Sinal de erro, $e(t)$. Valor final do sinal do erro. Porcentagem do erro em relação ao valor de entrada.\n",
        "\n",
        "3. Sinal de controle, $u(t)$. Valor máximo do módulo do sinal de controle."
      ]
    },
    {
      "cell_type": "code",
      "metadata": {
        "id": "isLQxOg928tY"
      },
      "source": [
        "# Insira o seu código aqui"
      ],
      "execution_count": null,
      "outputs": []
    },
    {
      "cell_type": "markdown",
      "metadata": {
        "id": "9tjfMjrM0QvX"
      },
      "source": [
        "---\n",
        "\n",
        "#### Caso 4\n",
        "\n",
        "Encontre o valor de $K_p$ necessário para que o erro de regime permanente seja igual a $10\\%$ do valor da entrada $u(t)$, ou seja, como a entrada é degrau $u(t)=1(t)$, o valor final do erro deve ser $0.1$.\n",
        "\n",
        "Para o valor de $K_p$ encontrado, obtenha os seguintes sinais para o sistema de malha fechada da Figura 1, desconsiderando disturbio, ou seja, para $d = 0$:\n",
        "\n",
        "1. Saída do sistema, $y(t)$, sobreposta com a referência degrau unitário, r(t) = 1(t). Características de desempenho da resposta de malha fechada.\n",
        "\n",
        "2. Sinal de erro, $e(t)$. Valor final do sinal do erro. Porcentagem do erro em relação ao valor de entrada.\n",
        "\n",
        "3. Sinal de controle, $u(t)$. Valor máximo do módulo do sinal de controle."
      ]
    },
    {
      "cell_type": "code",
      "metadata": {
        "id": "qLRVBxp13Dkp"
      },
      "source": [
        "# Insira o seu código aqui"
      ],
      "execution_count": null,
      "outputs": []
    },
    {
      "cell_type": "markdown",
      "metadata": {
        "id": "xiFw6VoydFpd"
      },
      "source": [
        "---\n",
        "\n",
        "### Análise dos Resultados\n",
        "\n",
        "\n",
        "\n",
        "*   Comente sobre o efeito do aumento do ganho proporcional no valor do erro em regime permanente, no valor do tempo de subida, e no valor do tempo de acomodação.\n",
        "\n",
        "\n",
        "*   É possível zerar completamente o erro de regime permanente do sistema de malha fechada utilizando um controle proporcional?\n",
        "\n",
        "\n",
        "* \n",
        "\n"
      ]
    },
    {
      "cell_type": "markdown",
      "metadata": {
        "id": "VFdn_umNZmPL"
      },
      "source": [
        "\n",
        "\n",
        "---\n",
        "\n",
        "\n",
        "## Gerar Relatório em PDF\n",
        "\n",
        "As linhas a seguir só precisam ser executadas para gerar um pdf para entrega. **Após grear o PDF e antes de submeter no Moodle, renomeie o arquivo PDF incluindo no nome do arquivo o seu N.USP.**"
      ]
    },
    {
      "cell_type": "code",
      "metadata": {
        "id": "G-TxqhDzrmSg"
      },
      "source": [
        ""
      ],
      "execution_count": null,
      "outputs": []
    },
    {
      "cell_type": "code",
      "metadata": {
        "id": "2XtP66uTMb6R"
      },
      "source": [
        "#Instalação de recursos para gerar PDF do relatório\n",
        "!apt-get install texlive texlive-xetex texlive-latex-extra pandoc\n",
        "!pip install pypandoc --quiet "
      ],
      "execution_count": null,
      "outputs": []
    },
    {
      "cell_type": "code",
      "metadata": {
        "id": "j0xn0KkNNB5g"
      },
      "source": [
        "#Monta o google drive \n",
        "from google.colab import drive\n",
        "drive.mount('/content/drive')"
      ],
      "execution_count": null,
      "outputs": []
    },
    {
      "cell_type": "code",
      "metadata": {
        "id": "CH9GpB6fMeFI"
      },
      "source": [
        "#Conversão em PDF\n",
        "# Altere com comando a seguir com o path e o nome do deste notebbok no seu Google Drive\n",
        "!jupyter nbconvert --to PDF \"/content/drive/My Drive/Colab Notebooks/SEL0620/sel0620_tarefa4_python.ipynb\""
      ],
      "execution_count": null,
      "outputs": []
    }
  ]
}