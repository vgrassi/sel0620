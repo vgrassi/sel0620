{
  "nbformat": 4,
  "nbformat_minor": 0,
  "metadata": {
    "colab": {
      "name": "sel0620_tarefa4_python.ipynb",
      "provenance": [],
      "collapsed_sections": [],
      "authorship_tag": "ABX9TyPXgN7HN5t9U6xJY4syCB3X"
    },
    "kernelspec": {
      "name": "python3",
      "display_name": "Python 3"
    },
    "language_info": {
      "name": "python"
    }
  },
  "cells": [
    {
      "cell_type": "markdown",
      "metadata": {
        "id": "KZZqHvJOyvoe"
      },
      "source": [
        "# SEL0620 - Controle Digital\n",
        "\n",
        "**Nome do(s) Aluno(s):** \n",
        "\n",
        "**N.USP:** \n",
        "\n",
        "**Exercício Individual ou em dupla. Peso 1.**\n"
      ]
    },
    {
      "cell_type": "markdown",
      "metadata": {
        "id": "kck9J2i5Qz4Q"
      },
      "source": [
        "## Preparação do ambiente do Colab\n",
        "\n",
        "Instala a biblioteca de controle "
      ]
    },
    {
      "cell_type": "code",
      "metadata": {
        "id": "iAlcQkldyy4_"
      },
      "source": [
        "# !pip install slycot # biblioteca opcional\n",
        "!pip install control --quiet "
      ],
      "execution_count": null,
      "outputs": []
    },
    {
      "cell_type": "markdown",
      "metadata": {
        "id": "fRn18DmJzYmp"
      },
      "source": [
        "Carrega bibiotecas "
      ]
    },
    {
      "cell_type": "code",
      "metadata": {
        "id": "nB5sDg-5yMnt"
      },
      "source": [
        "import os\n",
        "import numpy as np\n",
        "import matplotlib.pyplot as plt\n",
        "from math import pi\n",
        "import control as ct\n",
        "from control.matlab import *"
      ],
      "execution_count": null,
      "outputs": []
    },
    {
      "cell_type": "markdown",
      "metadata": {
        "id": "Xek0kYr-tE6i"
      },
      "source": [
        "Coloque a seguir as definições das funções implementadas em práticas anteriores que você deseja utilizar nesta prática:"
      ]
    },
    {
      "cell_type": "code",
      "metadata": {
        "id": "HStnb4c_tQsv"
      },
      "source": [
        "# Insira a definição das funções implementadas em práticas anteriores que serão utilizadas nesta prática\n"
      ],
      "execution_count": null,
      "outputs": []
    },
    {
      "cell_type": "markdown",
      "metadata": {
        "id": "S1gBi6LuRwB4"
      },
      "source": [
        "## Projeto de Controladores\n",
        "\n",
        "Considere o sistema de segunda ordem utilizado nas práticas anteriores e representado pela função de transferência:\n",
        "\n",
        "$$ G_p(s) = K \\frac{w_n^2}{s^2 + 2 \\zeta w_n s + w_n^2} $$\n",
        "\n",
        "Utilize os parâmetros $K$, $\\zeta$, e $w_n$ indicados na tabela disponível no Moodle, de acordo com o N.USP de um dos integrantes do grupo. Utilize os mesmos parâmetros da prática anterior para dar continuidade ao projeto.\n",
        "\n"
      ]
    },
    {
      "cell_type": "markdown",
      "metadata": {
        "id": "5nCzYqSopmsJ"
      },
      "source": [
        "### Controle Proporcional Contínuo\n",
        "\n",
        "Nesta etapa, um controlador proporcional $C(s) = K_p$ será projetado para controlar o sistema em malha fechada. A Figura 1 mostra o diagrama contínuo de controle com realimentação unitária em que a planta está sujeita a um distúrbio na entrada.\n",
        "\n"
      ]
    },
    {
      "cell_type": "markdown",
      "metadata": {
        "id": "OKKXKYEFTwUw"
      },
      "source": [
        "![malha_realimentacao.png](data:image/png;base64,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)\n",
        "\n",
        "Figura 1 - Sistema de malha fechada com realimentação unitária"
      ]
    },
    {
      "cell_type": "markdown",
      "metadata": {
        "id": "x_MSsICfbLRO"
      },
      "source": [
        "Desconsiderando o distúrbio na entrada da planta, a função contínua de malha fechada do sistema é dada por:\n",
        "\\begin{align*}\n",
        "& G_{MF}(s) = \\frac{Y(s)}{R(s)} = \\frac{C(s)G_p(s)}{1+C(s)G_p(s)}\n",
        "\\end{align*}\n",
        "\n",
        "O erro do sistema em relação ao sinal de referência da malha fechada é dado por:\n",
        "\\begin{align*}\n",
        "& E(s) = R(s) - Y(s) = R(s)\\left(1 - \\frac{C(s)G_p(s)}{1+C(s)G_p(s)}\\right) = \\frac{R(s)}{1+C(s)G_p(s)}\n",
        "\\end{align*}\n",
        "\n",
        "Portanto, para um sinal de referência do tipo degrau de amplitude $A$: \n",
        "\\begin{align*}\n",
        "& R(s) = \\frac{A}{s}\n",
        "\\end{align*}\n",
        "e o erro pode ser dado por:\n",
        "\\begin{align*}\n",
        "& E(s) =  \\frac{A}{s(1+C(s)G_p(s))}\n",
        "\\end{align*}\n",
        "\n",
        "O erro em regime permanente em valor absoluto, desconsiderando distúrbio na entrada da planta, considerando uma entrada degrau de ampliture $A$, a planta do sistema de segunda ordem $G_p(s)$, e controlador proporcional $C(s) = K_p$, pode ser calculado através do teorema do valor final:\n",
        "\\begin{align*}\n",
        "& e_{ss} = \\lim_{t \\rightarrow \\infty} e(t) = \\lim_{s \\rightarrow 0} s E(s) = \\frac{A}{(1+K K_p)}\n",
        "\\end{align*}"
      ]
    },
    {
      "cell_type": "markdown",
      "metadata": {
        "id": "-FrrKX3YdCuO"
      },
      "source": [
        "### Implementação das funções para simular a malha fechada\n",
        "\n",
        "A partir desta prática, ao se trabalhar com sistemas de malha fechada, é importante mostrar os seguintes sinais indicados na Figura 1:\n",
        "\n",
        "* Referência, $r(t)$, que é o sinal de entrada do sistema de malha fechada que serve como referência a ser seguida pelo sistema. Ou seja, deseja-se que o sinal de saída $y(t)$ seja o mais próximo possível, ou até mesmo igual a $r(t)$;\n",
        "\n",
        "* Saída da planta, $y(t)$, é o sinal que se deseja controlar, de interesse para o problema de controle, e portanto será medido por um sensor e realimentado para comparação com o sinal de referência. A saída da planta $G_p(s)$ geralmente é a saída do sistema de malha fechada.\n",
        "\n",
        "* Erro do sistema, $e(t)$, é a diferença entre a referência e a saída da planta, ou seja, $y(t) = r(t) - y(t)$. Para sistemas com realimentação unitária, o sinal de erro é a saída do comparador.\n",
        "\n",
        "* Sinal de controle, $u(t)$, é o sinal gerado pelo controlador, ou seja, a saída de $C(s)$.\n",
        "\n",
        "* Distúrbio na entrada da planta, $d(s)$, é um sinal que pode ser adicionado ao sinal de controle antes da entrada na planta. Geralmente é utilizado para simular e testar a capacidade do sistema de malha fechada de seguir a referência mesmo em condições diferentes da ideal.\n",
        "\n",
        "* Entrada na planta, $u_d(t) = u(t) + d(t)$.\n",
        "\n",
        "Os sinais $r(t)$ e $d(t)$ em geral são definidos e fornecidos ao sistema para a simulação.\n",
        "\n",
        "Os sinais sinais de erro $e(t)= r(t) - y(t)$, e o sinal de entrada na planta $u_d(t) = u(t) + d(t)$, são facilmente obtidos a partir de $r(t)$, $d(t)$, $y(t)$, e $u(t)$.\n",
        "\n",
        "Entretanto, os sinais $u(t)$ e $y(t)$ devem ser gerados de forma apropriada para a simulação. Nesta tarefa, o distúrbio $d(t)$ será desconsiderado."
      ]
    },
    {
      "cell_type": "markdown",
      "metadata": {
        "id": "wtdBwvhUnRy5"
      },
      "source": [
        "#### Saída do sistema desconsiderando distúrbio\n",
        "\n",
        "Desconsiderando o distúrbio, a função de transferência que relaciona a saída e a referência do sistema de malha fechada é dada por:\n",
        "\n",
        "$$ G_{mf}(s) = \\frac{Y(s)}{R(s)} = \\frac{C(s) G_p(s)}{1+C(s)G_p(s)}$$\n",
        "\n",
        "Ela pode ser implementada na biblioteca de controle em Python utilizando o comando [`feedback`](https://python-control.readthedocs.io/en/0.9.0/generated/control.matlab.feedback.html#control.matlab.feedback) ou manipulando algebricamente as funções de transferência.\n",
        "\n",
        "A seguir implemente uma função que dado a função de transferência do controlador $C(s)$, e a função de transferência de planta $G_p(s)$, retorna a função de transferência $Y(s)/R(s)$.\n"
      ]
    },
    {
      "cell_type": "code",
      "metadata": {
        "id": "bPfhqM39qBIM"
      },
      "source": [
        "def ft_saida_referencia(ft_planta,ft_controlador):\n",
        "  # Insira o seu código aqui\n",
        "\n",
        "  return ft_r2y"
      ],
      "execution_count": null,
      "outputs": []
    },
    {
      "cell_type": "markdown",
      "metadata": {
        "id": "KhJFfoY0ppZy"
      },
      "source": [
        "#### Sinal de controle desconsiderando distúrbio\n",
        "\n",
        "Desconsiderando o distúrbio, encontre a função de transferência que relaciona o sinal de controle $U(s)$ com a referência do sistema de malha fechada $R(s)$:\n",
        "\n",
        "$$ \\frac{U(s)}{R(s)} = ? $$\n",
        "\n",
        "Implemente em python a função de transferência encontrada:\n"
      ]
    },
    {
      "cell_type": "code",
      "metadata": {
        "id": "eI4Fahf6q2sh"
      },
      "source": [
        "def ft_controle_referencia(ft_planta,ft_controlador):\n",
        "  # Insira o seu código aqui\n",
        "  \n",
        "  return ft_r2u"
      ],
      "execution_count": null,
      "outputs": []
    },
    {
      "cell_type": "markdown",
      "metadata": {
        "id": "jn-FUYu9Z2op"
      },
      "source": [
        "### Projeto e Simulação\n",
        "\n",
        "\n",
        "#### Caso 1:\n",
        "\n",
        "Considere o sistema de malha fechada da Figura 1, desconsiderando disturbio, ou seja, para $d = 0$. Considere referência degrau unitário, $r(t)=1(t)$ e controlador proporcional $C(s) = K_p = 1$. Obtenha os seguintes sinais de resposta:\n",
        "\n",
        "1. Saída do sistema, $y(t)$, sobreposta com a referência degrau unitário, r(t) = 1(t), mostrando as características de desempenho da resposta de malha fechada (ver tarefa 2)."
      ]
    },
    {
      "cell_type": "code",
      "metadata": {
        "id": "m5Ab2P6Os6W3"
      },
      "source": [
        "# Insira o seu código aqui"
      ],
      "execution_count": null,
      "outputs": []
    },
    {
      "cell_type": "markdown",
      "metadata": {
        "id": "eZsQdsPfuhPm"
      },
      "source": [
        "* Relacione a seguir os valores de cada uma das características de desempenho da curva de saída de malha fechada, ou seja, da resposta de malha fechada a uma entrada degrau (ver tarefa 2):\n",
        "\n",
        "* $c_{final} = ?$\n",
        "* $c_{max} = ?$\n",
        "* $T_r = ?$\n",
        "* $T_s = ?$\n",
        "* $T_p = ?$\n",
        "* $M_p = ?$\n",
        "\n",
        "---\n",
        "\n",
        "\n",
        "\n"
      ]
    },
    {
      "cell_type": "markdown",
      "metadata": {
        "id": "6DnIIH23tsWf"
      },
      "source": [
        "2. Sinal de erro, $e(t)$:"
      ]
    },
    {
      "cell_type": "code",
      "metadata": {
        "id": "oOG9P_b2uDXr"
      },
      "source": [
        "# Insira o seu código aqui"
      ],
      "execution_count": null,
      "outputs": []
    },
    {
      "cell_type": "markdown",
      "metadata": {
        "id": "ssZybnRhuFy_"
      },
      "source": [
        "* Valor final do sinal do erro: <coloque sua resposta aqui>\n",
        "* Porcentagem do erro em relação ao valor de entrada: <coloque sua resposta aqui>\n",
        "\n",
        "\n",
        "\n",
        "---\n",
        "\n"
      ]
    },
    {
      "cell_type": "markdown",
      "metadata": {
        "id": "YTuzuwcSxY7a"
      },
      "source": [
        "3. Sinal de controle, $u(t)$:"
      ]
    },
    {
      "cell_type": "code",
      "metadata": {
        "id": "UL2AwBv6xdIr"
      },
      "source": [
        "# Insira o seu código aqui"
      ],
      "execution_count": null,
      "outputs": []
    },
    {
      "cell_type": "markdown",
      "metadata": {
        "id": "OIG82DgbxfT8"
      },
      "source": [
        "* Valor máximo do módulo do sinal de controle: <coloque sua resposta aqui>\n",
        "\n",
        "\n",
        "\n",
        "---\n",
        "\n"
      ]
    },
    {
      "cell_type": "markdown",
      "metadata": {
        "id": "0qr2_WW6vnIA"
      },
      "source": [
        "#### Caso 2:\n",
        "\n",
        "Para as mesmas condições do caso 1, mas considerando um controlador proporcional $C(s) = K_p = 5$, obtenha os seguintes sinais de resposta:\n",
        "\n",
        "1. Saída do sistema, $y(t)$, sobreposta com a referência degrau unitário, r(t) = 1(t). Características de desempenho da resposta de malha fechada.\n",
        "\n",
        "2. Sinal de erro, $e(t)$. Valor final do sinal do erro. Porcentagem do erro em relação ao valor de entrada.\n",
        "\n",
        "3. Sinal de controle, $u(t)$. Valor máximo do módulo do sinal de controle.\n",
        "\n",
        "\n",
        "\n"
      ]
    },
    {
      "cell_type": "code",
      "metadata": {
        "id": "ku0FkqY925Ir"
      },
      "source": [
        "# Insira o seu código aqui"
      ],
      "execution_count": null,
      "outputs": []
    },
    {
      "cell_type": "markdown",
      "metadata": {
        "id": "r-7Yf15PxMWu"
      },
      "source": [
        "---\n",
        "\n",
        "#### Caso 3\n",
        "\n",
        "Para as mesmas condições do caso 1, mas considerando um controlador proporcional $C(s) = K_p = 8$, obtenha os seguintes sinais de resposta:\n",
        "\n",
        "1. Saída do sistema, $y(t)$, sobreposta com a referência degrau unitário, r(t) = 1(t). Características de desempenho da resposta de malha fechada.\n",
        "\n",
        "2. Sinal de erro, $e(t)$. Valor final do sinal do erro. Porcentagem do erro em relação ao valor de entrada.\n",
        "\n",
        "3. Sinal de controle, $u(t)$. Valor máximo do módulo do sinal de controle."
      ]
    },
    {
      "cell_type": "code",
      "metadata": {
        "id": "isLQxOg928tY"
      },
      "source": [
        "# Insira o seu código aqui"
      ],
      "execution_count": null,
      "outputs": []
    },
    {
      "cell_type": "markdown",
      "metadata": {
        "id": "9tjfMjrM0QvX"
      },
      "source": [
        "---\n",
        "\n",
        "#### Caso 4\n",
        "\n",
        "Para as mesmas condições do caso 1 ($r(t)=1(t)$ e $d(t) = 0$), encontre o valor de $K_p$ necessário para que o erro de regime permanente seja igual a $10\\%$ do valor da entrada $u(t)$, ou seja, como a entrada é degrau $u(t)=1(t)$, o valor final do erro deve ser $0.1$.\n",
        "\n",
        "Para o valor de $K_p$ encontrado, obtenha os seguintes sinais de resposta:\n",
        "\n",
        "1. Saída do sistema, $y(t)$, sobreposta com a referência degrau unitário, r(t) = 1(t). Características de desempenho da resposta de malha fechada.\n",
        "\n",
        "2. Sinal de erro, $e(t)$. Valor final do sinal do erro. Porcentagem do erro em relação ao valor de entrada.\n",
        "\n",
        "3. Sinal de controle, $u(t)$. Valor máximo do módulo do sinal de controle."
      ]
    },
    {
      "cell_type": "code",
      "metadata": {
        "id": "qLRVBxp13Dkp"
      },
      "source": [
        "# Insira o seu código aqui"
      ],
      "execution_count": null,
      "outputs": []
    },
    {
      "cell_type": "markdown",
      "metadata": {
        "id": "xiFw6VoydFpd"
      },
      "source": [
        "---\n",
        "\n",
        "### Análise dos Resultados\n",
        "\n",
        "\n",
        "\n",
        "* Comente sobre o efeito do aumento do ganho proporcional no valor do erro em regime permanente, no valor do tempo de subida, no valor do tempo de acomodação, e no valor máximo do módulo do sinal de controle.\n",
        "\n",
        "\n",
        "* É possível zerar completamente o erro de regime permanente do sistema de malha fechada utilizando um controle proporcional?\n",
        "\n"
      ]
    },
    {
      "cell_type": "markdown",
      "metadata": {
        "id": "VFdn_umNZmPL"
      },
      "source": [
        "\n",
        "\n",
        "---\n",
        "\n",
        "\n",
        "## Gerar Relatório em PDF\n",
        "\n",
        "As linhas a seguir só precisam ser executadas para gerar um pdf para entrega. **Após grear o PDF e antes de submeter no Moodle, renomeie o arquivo PDF incluindo no nome do arquivo o seu N.USP.**"
      ]
    },
    {
      "cell_type": "code",
      "metadata": {
        "id": "G-TxqhDzrmSg"
      },
      "source": [
        ""
      ],
      "execution_count": null,
      "outputs": []
    },
    {
      "cell_type": "code",
      "metadata": {
        "id": "2XtP66uTMb6R"
      },
      "source": [
        "#Instalação de recursos para gerar PDF do relatório\n",
        "!apt-get install texlive texlive-xetex texlive-latex-extra pandoc\n",
        "!pip install pypandoc --quiet "
      ],
      "execution_count": null,
      "outputs": []
    },
    {
      "cell_type": "code",
      "metadata": {
        "id": "j0xn0KkNNB5g"
      },
      "source": [
        "#Monta o google drive \n",
        "from google.colab import drive\n",
        "drive.mount('/content/drive')"
      ],
      "execution_count": null,
      "outputs": []
    },
    {
      "cell_type": "code",
      "metadata": {
        "id": "CH9GpB6fMeFI"
      },
      "source": [
        "#Conversão em PDF\n",
        "# Altere com comando a seguir com o path e o nome do deste notebbok no seu Google Drive\n",
        "!jupyter nbconvert --to PDF \"/content/drive/My Drive/Colab Notebooks/SEL0620/sel0620_tarefa4_python.ipynb\""
      ],
      "execution_count": null,
      "outputs": []
    }
  ]
}