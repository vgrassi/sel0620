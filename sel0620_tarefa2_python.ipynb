{
  "nbformat": 4,
  "nbformat_minor": 0,
  "metadata": {
    "colab": {
      "name": "sel0620_tarefa2_python.ipynb",
      "provenance": [],
      "authorship_tag": "ABX9TyOUSfTYKEJHxwkHA9GnaQQS"
    },
    "kernelspec": {
      "name": "python3",
      "display_name": "Python 3"
    },
    "language_info": {
      "name": "python"
    }
  },
  "cells": [
    {
      "cell_type": "markdown",
      "metadata": {
        "id": "KZZqHvJOyvoe"
      },
      "source": [
        "# SEL0620 - Controle Digital\n",
        "\n",
        "**Nome do Aluno:** \n",
        "\n",
        "**N.USP:** \n",
        "\n",
        "**Exercício Individual**\n"
      ]
    },
    {
      "cell_type": "markdown",
      "metadata": {
        "id": "kck9J2i5Qz4Q"
      },
      "source": [
        "## Preparação do ambiente do Colab\n",
        "\n",
        "Instala a biblioteca de controle "
      ]
    },
    {
      "cell_type": "code",
      "metadata": {
        "id": "iAlcQkldyy4_"
      },
      "source": [
        "# !pip install slycot # biblioteca opcional\n",
        "!pip install control --quiet "
      ],
      "execution_count": null,
      "outputs": []
    },
    {
      "cell_type": "markdown",
      "metadata": {
        "id": "fRn18DmJzYmp"
      },
      "source": [
        "Carrega bibiotecas "
      ]
    },
    {
      "cell_type": "code",
      "metadata": {
        "id": "nB5sDg-5yMnt"
      },
      "source": [
        "import os\n",
        "import numpy as np\n",
        "import matplotlib.pyplot as plt\n",
        "from math import pi\n",
        "import control as ct\n",
        "from control.matlab import *"
      ],
      "execution_count": null,
      "outputs": []
    },
    {
      "cell_type": "markdown",
      "metadata": {
        "id": "S1gBi6LuRwB4"
      },
      "source": [
        "## Resposta de Sistemas Dinâmicos\n",
        "\n",
        "Considere o seguinte sistema de segunda ordem representado pela função de transferência:\n",
        "\n",
        "$$ G(s) = K \\frac{w_n^2}{s^2 + 2 \\zeta w_n s + w_n^2} $$\n",
        "\n",
        "A largura de faixa do sistema, $w_b$, é medida quando o ganho do sistema cai $3dB$ em relação ao ganho do sistema referente a $w \\rightarrow {0}$.\n",
        "\n",
        "Os parâmetros $K$, $\\zeta$, e $w_n$ estão indicados na tabela disponível no Moodle.\n",
        "\n"
      ]
    },
    {
      "cell_type": "markdown",
      "metadata": {
        "id": "5nCzYqSopmsJ"
      },
      "source": [
        "### Resposta em frequência\n",
        "\n",
        "Mostre o gráfico de bode do sistema. \n",
        "\n",
        "\n"
      ]
    },
    {
      "cell_type": "code",
      "metadata": {
        "id": "bPfhqM39qBIM"
      },
      "source": [
        "# Insira o seu código aqui"
      ],
      "execution_count": null,
      "outputs": []
    },
    {
      "cell_type": "markdown",
      "metadata": {
        "id": "g4j-qAYqr2lw"
      },
      "source": [
        "Encontre a partir do gráfico ou código: \n",
        "\n",
        "* Ganho do sistema em [dB] quando $w \\rightarrow {0}$:\n",
        "\n",
        " $|G(0)|_{db} = ? $\n",
        "\n",
        "* Largura de banda do sistema $w_b$ em [rad/s] e [Hz]:\n",
        "\n",
        " $w_b = ? $ rad/s\n",
        "\n",
        " $w_b = ? $ Hz \n",
        "\n",
        "* Ganho do sistema em [dB] para a frequencia $w_b$:\n",
        "\n",
        " $|G(jw_b)|_{db} = ?$"
      ]
    },
    {
      "cell_type": "code",
      "metadata": {
        "id": "KQJAyjgDuHj9"
      },
      "source": [
        "# Se necessário utilize esse campo de código para encontrar os valores pedidos:\n",
        "\n"
      ],
      "execution_count": null,
      "outputs": []
    },
    {
      "cell_type": "markdown",
      "metadata": {
        "id": "Ld3APCEaubqo"
      },
      "source": [
        "### Resposta transitória\n",
        "\n",
        "Mostre a resposta contínua do sistema $G(s)$ a uma entrada do tipo degrau unitário."
      ]
    },
    {
      "cell_type": "code",
      "metadata": {
        "id": "JgfNUKuuusVR"
      },
      "source": [
        "# Insira o seu código aqui\n"
      ],
      "execution_count": null,
      "outputs": []
    },
    {
      "cell_type": "markdown",
      "metadata": {
        "id": "LJZPLGVpuyvF"
      },
      "source": [
        "Mostre a resposta contínua do sistema sobreposta com a resposta discreta do sistema utilizando um retentor de ordem zero (*zero order holder*) para as seguintes frequências de amostragem:"
      ]
    },
    {
      "cell_type": "markdown",
      "metadata": {
        "id": "Bm5QiIVUwkWX"
      },
      "source": [
        "* Frequencia de amostragem $w_0 = 0.5 w_b$:"
      ]
    },
    {
      "cell_type": "code",
      "metadata": {
        "id": "V13y6wR4xC_s"
      },
      "source": [
        "# Para todos os gráficos pedidos no curso, represente a resposta contínua em azul e resposta discreta em vermelho.\n",
        "# Insira o seu código aqui\n"
      ],
      "execution_count": null,
      "outputs": []
    },
    {
      "cell_type": "markdown",
      "metadata": {
        "id": "EYMkypbFxFL1"
      },
      "source": [
        "* Frequencia de amostragem $w_0 = w_b$:"
      ]
    },
    {
      "cell_type": "code",
      "metadata": {
        "id": "XRG12GL2xJRZ"
      },
      "source": [
        "# Insira o seu código aqui\n"
      ],
      "execution_count": null,
      "outputs": []
    },
    {
      "cell_type": "markdown",
      "metadata": {
        "id": "c6wHwrglxJws"
      },
      "source": [
        "* Frequencia de amostragem $w_0 = 2 w_b$:"
      ]
    },
    {
      "cell_type": "code",
      "metadata": {
        "id": "24z8Kc7pxLms"
      },
      "source": [
        "# Insira o seu código aqui\n"
      ],
      "execution_count": null,
      "outputs": []
    },
    {
      "cell_type": "markdown",
      "metadata": {
        "id": "cYJ-smd2xMDH"
      },
      "source": [
        "* Frequencia de amostragem $w_0 = 5 w_b$:"
      ]
    },
    {
      "cell_type": "code",
      "metadata": {
        "id": "NElvFhvQxNx5"
      },
      "source": [
        "# Insira o seu código aqui\n"
      ],
      "execution_count": null,
      "outputs": []
    },
    {
      "cell_type": "markdown",
      "metadata": {
        "id": "1ezmRfPPxOGm"
      },
      "source": [
        "* Frequencia de amostragem $w_0 = 10 w_b$:"
      ]
    },
    {
      "cell_type": "code",
      "metadata": {
        "id": "U6wx9wksxPqo"
      },
      "source": [
        "# Insira o seu código aqui\n"
      ],
      "execution_count": null,
      "outputs": []
    },
    {
      "cell_type": "markdown",
      "metadata": {
        "id": "m-yCIUH5xQKo"
      },
      "source": [
        "* Frequencia de amostragem $w_0 = 35 w_b$:"
      ]
    },
    {
      "cell_type": "code",
      "metadata": {
        "id": "WblZfN3OxTE9"
      },
      "source": [
        "# Insira o seu código aqui\n"
      ],
      "execution_count": null,
      "outputs": []
    },
    {
      "cell_type": "markdown",
      "metadata": {
        "id": "RRUlzt03xTo-"
      },
      "source": [
        "#### Discussão dos Resultados\n",
        "\n",
        "\n",
        "**Questão 1:**  Baseado na largura de banda de um sistema, $w_b$, qual o critério que pode ser usado para a escolha de uma frequencia de amostragem adequada para o sistema dinâmico ? Cite a referência bibliográfica que usou para dar a sua resposta (de preferência um livro ou artigo científico).  \n",
        "\n",
        "<resposta>\n",
        "\n",
        "**Questão 2:** Fazendo uma análise qualitativa dos resultados obtidos da simulação da discretização da resposta degrau do sistema para várias frequências de amostragem, você concorda com o critério indicado pela referência bibliográfica consultada? Comente.\n",
        "\n",
        "<resposta>\n"
      ]
    },
    {
      "cell_type": "markdown",
      "metadata": {
        "id": "tby9OkBFl3SQ"
      },
      "source": [
        "### Análise de Fourier da resposta transitória de um sistema dinâmico\n",
        "\n",
        "Através da Transformada de Fourier obtém-se uma representação em frequência $\\hat y(w)$ de um sinal em função do tempo $y(t)$. Através do gráfico da magnitude da Transformada de Fourier em função da frequência $|\\hat y(w)|$ é possível visualizar a importância relativa de cada frequência que compõe o sinal $y(t)$.\n",
        "\n",
        "Um dos métodos numéricos para calcular a transformada de Fourier de um sinal discreto é a FFT (*Fast Fourier Transform*).\n",
        "\n",
        "Todas as respostas transitórias obtidas anteriormente são na realidade representações discretas do sinal contínuo. Mesmo a resposta considerada como sendo *contínua*, é na verdade uma discretização do sinal com uma frequência $w_0$ elevada.\n",
        "\n",
        "A função implementada a seguir utiliza a função [`numpy.fft`](https://numpy.org/doc/stable/reference/routines.fft.html) da biblioteca NumPy para mostrar uma análise da Transformada de Fourier de um sinal discretizado com frequência de amostragem $w_0$ (considera-se discretização modulada por um trêm de impulsos). \n",
        "\n",
        "A curva em azul no gráfico resultante é o espectro de frequência do sinal original contínuo, as curvas em vermelho e verde são as repetições do espectro de frequência original causado pelo processo de amostragem. O espectro de frequência do sinal amostrado seria a soma das curvas em azul, vermelho, e verde (não está mostrado na figura). A curva tracejada representa um filtro passa-baixa ideal que poderia ser utilizadao para recuperar a curva contínua a partir da curva discretizada. "
      ]
    },
    {
      "cell_type": "code",
      "metadata": {
        "id": "ECOZGZGcpMva"
      },
      "source": [
        "# Mostra o gráfico da Transformada de Fourier para a curva y(t) amostrada na frequencia w0 [rad/s]\n",
        "def plot_fft_discreto(t,y,w0):\n",
        "\n",
        "  # Transformada de Fourier\n",
        "  y_fft = np.abs(np.fft.fft(y))/(t.size) # valor absoluto da fft normalizado (eixo y)\n",
        "  f_hz = np.fft.fftfreq(t.size,t[1]-t[0]) # vetor de frequencias em Hz (eixo x)\n",
        "\n",
        "  # Acrescenta o primeiro elemento no final do velor para que o gráfico fique ok\n",
        "  y_fft = np.append(y_fft,y_fft[0])\n",
        "  f_hz = np.append(f_hz,f_hz[0])\n",
        "\n",
        "  # Converte para rad/s\n",
        "  w_rad = 2*pi*f_hz\n",
        "\n",
        "  # Período de amostragem\n",
        "  T0 = (2*pi)/w0\n",
        "\n",
        "  # Mostra o gráfico da \n",
        "  n = int(w_rad.size/2)\n",
        "  plt.plot(w_rad[0:n], y_fft[0:n],'b')\n",
        "  plt.plot(w_rad[n:], y_fft[n:],'b')\n",
        "  plt.plot(w_rad[0:n]+w0, y_fft[0:n],'r')\n",
        "  plt.plot(w_rad[n:]+w0, y_fft[n:],'r')\n",
        "  plt.plot(w_rad[0:n]-w0, y_fft[0:n],'g')\n",
        "  plt.plot(w_rad[n:]-w0, y_fft[n:],'g')\n",
        "  y_filtro = [0, 0, 1, 1, 0, 0]\n",
        "  w_filtro = [-w0, -w0/2, -w0/2, w0/2, w0/2, +w0]\n",
        "  plt.plot(w_filtro,y_filtro,'--k')\n",
        "  plt.axis([-1.5*w0,1.5*w0,0,1.1*np.max(y_fft)])\n",
        "  plt.ylabel(\"$|\\haty(w)|$\")\n",
        "  plt.xlabel('w [rad/s]')\n",
        "  plt.title(\"Espectro normalizado de frequências para sinal amostrado com $w_0 = $\"+str(w0)+\" rad/s\")\n",
        "  plt.grid(True)"
      ],
      "execution_count": null,
      "outputs": []
    },
    {
      "cell_type": "markdown",
      "metadata": {
        "id": "feZq-TAEpRkj"
      },
      "source": [
        "Mostre o gráfico da FFT da resposta do sistema a uma entrada degrau unitário discretizada com:\n",
        "\n",
        "* Frequencia de amostragem $w_0 = 0.5 w_b$:"
      ]
    },
    {
      "cell_type": "code",
      "metadata": {
        "id": "knYj8VE9piTf"
      },
      "source": [
        "# Redefinir t, y, w0 antes de executar a função a seguir\n",
        "plot_fft_discreto(t,y,w0)"
      ],
      "execution_count": null,
      "outputs": []
    },
    {
      "cell_type": "markdown",
      "metadata": {
        "id": "tFycz_0wrCbM"
      },
      "source": [
        "* Frequencia de amostragem $w_0 = w_b$:"
      ]
    },
    {
      "cell_type": "code",
      "metadata": {
        "id": "OnJFrxHhqzmU"
      },
      "source": [
        "# Redefinir t, y, w0 antes de executar a função a seguir\n",
        "plot_fft_discreto(t,y,w0)"
      ],
      "execution_count": null,
      "outputs": []
    },
    {
      "cell_type": "markdown",
      "metadata": {
        "id": "LC-MYSPhrFcB"
      },
      "source": [
        "* Frequencia de amostragem $w_0 = 2 w_b$:"
      ]
    },
    {
      "cell_type": "code",
      "metadata": {
        "id": "CbxXjYIarNE4"
      },
      "source": [
        "# Redefinir t, y, w0 antes de executar a função a seguir\n",
        "plot_fft_discreto(t,y,w0)"
      ],
      "execution_count": null,
      "outputs": []
    },
    {
      "cell_type": "markdown",
      "metadata": {
        "id": "omrnEGUQrInl"
      },
      "source": [
        "* Frequencia de amostragem $w_0 = 5 w_b$:"
      ]
    },
    {
      "cell_type": "code",
      "metadata": {
        "id": "Q5v0eKocrN06"
      },
      "source": [
        "# Redefinir t, y, w0 antes de executar a função a seguir\n",
        "plot_fft_discreto(t,y,w0)"
      ],
      "execution_count": null,
      "outputs": []
    },
    {
      "cell_type": "markdown",
      "metadata": {
        "id": "YhT2goXArJyT"
      },
      "source": [
        "* Frequencia de amostragem $w_0 = 10 w_b$:"
      ]
    },
    {
      "cell_type": "code",
      "metadata": {
        "id": "bc99jyg3rON1"
      },
      "source": [
        "# Redefinir t, y, w0 antes de executar a função a seguir\n",
        "plot_fft_discreto(t,y,w0)"
      ],
      "execution_count": null,
      "outputs": []
    },
    {
      "cell_type": "markdown",
      "metadata": {
        "id": "Ubwq6_ksrLRk"
      },
      "source": [
        "* Frequencia de amostragem $w_0 = 35 w_b$:"
      ]
    },
    {
      "cell_type": "code",
      "metadata": {
        "id": "zmTsgDNXrOnU"
      },
      "source": [
        "# Redefinir t, y, w0 antes de executar a função a seguir\n",
        "plot_fft_discreto(t,y,w0)"
      ],
      "execution_count": null,
      "outputs": []
    },
    {
      "cell_type": "markdown",
      "metadata": {
        "id": "7x834JCPrUmL"
      },
      "source": [
        "#### Discussão dos Resultados\n",
        "\n",
        "**Questão 3:** Para quais casos não é possível recuperar o sinal original contínuo a partir do sinal discreto? Ou seja, para quais casos o espectro de frequência original do sinal contínuo discreto não pode ser recuperado após a aplicação do filtro passa-baixa ideal no espectro de frequência do sinal discreto? Como isso está relacionado ao Teorema de Amostragem?\n"
      ]
    },
    {
      "cell_type": "markdown",
      "metadata": {
        "id": "VFdn_umNZmPL"
      },
      "source": [
        "\n",
        "\n",
        "---\n",
        "\n",
        "\n",
        "## Gerar Relatório em PDF\n",
        "\n",
        "As linhas a seguir só precisam ser executadas para gerar um pdf para entrega. **Após grear o PDF e antes de submeter no Moodle, renomeie o arquivo PDF incluindo no nome do arquivo o seu N.USP.**"
      ]
    },
    {
      "cell_type": "code",
      "metadata": {
        "id": "G-TxqhDzrmSg"
      },
      "source": [
        ""
      ],
      "execution_count": null,
      "outputs": []
    },
    {
      "cell_type": "code",
      "metadata": {
        "id": "2XtP66uTMb6R",
        "colab": {
          "base_uri": "https://localhost:8080/"
        },
        "outputId": "f138a32f-21d2-4c81-db3e-68849c64bd7f"
      },
      "source": [
        "#Instalação de recursos para gerar PDF do relatório\n",
        "!apt-get install texlive texlive-xetex texlive-latex-extra pandoc\n",
        "!pip install pypandoc --quiet "
      ],
      "execution_count": null,
      "outputs": [
        {
          "output_type": "stream",
          "text": [
            "Reading package lists... Done\n",
            "Building dependency tree       \n",
            "Reading state information... Done\n",
            "pandoc is already the newest version (1.19.2.4~dfsg-1build4).\n",
            "texlive is already the newest version (2017.20180305-1).\n",
            "texlive-latex-extra is already the newest version (2017.20180305-2).\n",
            "texlive-xetex is already the newest version (2017.20180305-1).\n",
            "The following package was automatically installed and is no longer required:\n",
            "  libnvidia-common-460\n",
            "Use 'apt autoremove' to remove it.\n",
            "0 upgraded, 0 newly installed, 0 to remove and 40 not upgraded.\n"
          ],
          "name": "stdout"
        }
      ]
    },
    {
      "cell_type": "code",
      "metadata": {
        "colab": {
          "base_uri": "https://localhost:8080/"
        },
        "id": "j0xn0KkNNB5g",
        "outputId": "8701392c-df74-4974-fa6a-10a289895f4c"
      },
      "source": [
        "#Monta o google drive \n",
        "from google.colab import drive\n",
        "drive.mount('/content/drive')"
      ],
      "execution_count": null,
      "outputs": [
        {
          "output_type": "stream",
          "text": [
            "Drive already mounted at /content/drive; to attempt to forcibly remount, call drive.mount(\"/content/drive\", force_remount=True).\n"
          ],
          "name": "stdout"
        }
      ]
    },
    {
      "cell_type": "code",
      "metadata": {
        "colab": {
          "base_uri": "https://localhost:8080/"
        },
        "id": "CH9GpB6fMeFI",
        "outputId": "89ca6f6a-1f9e-4bd3-8c9a-71938ffcf659"
      },
      "source": [
        "#Conversão em PDF\n",
        "# Altere com comando a seguir com o path e o nome do deste notebbok no seu Google Drive\n",
        "!jupyter nbconvert --to PDF \"/content/drive/My Drive/Colab Notebooks/SEL0620/sel0620_tarefa2_python.ipynb\""
      ],
      "execution_count": null,
      "outputs": [
        {
          "output_type": "stream",
          "text": [
            "[NbConvertApp] Converting notebook /content/drive/My Drive/Colab Notebooks/SEL0620/sel0620_tarefa1_python.ipynb to PDF\n",
            "[NbConvertApp] Support files will be in sel0620_tarefa1_python_files/\n",
            "[NbConvertApp] Making directory ./sel0620_tarefa1_python_files\n",
            "[NbConvertApp] Making directory ./sel0620_tarefa1_python_files\n",
            "[NbConvertApp] Writing 54990 bytes to ./notebook.tex\n",
            "[NbConvertApp] Building PDF\n",
            "[NbConvertApp] Running xelatex 3 times: [u'xelatex', u'./notebook.tex', '-quiet']\n",
            "[NbConvertApp] Running bibtex 1 time: [u'bibtex', u'./notebook']\n",
            "[NbConvertApp] WARNING | bibtex had problems, most likely because there were no citations\n",
            "[NbConvertApp] PDF successfully created\n",
            "[NbConvertApp] Writing 85907 bytes to /content/drive/My Drive/Colab Notebooks/SEL0620/sel0620_tarefa1_python.pdf\n"
          ],
          "name": "stdout"
        }
      ]
    },
    {
      "cell_type": "markdown",
      "metadata": {
        "id": "HAZ220zIhKLN"
      },
      "source": [
        ""
      ]
    }
  ]
}