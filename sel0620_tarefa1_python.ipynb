{
  "nbformat": 4,
  "nbformat_minor": 0,
  "metadata": {
    "colab": {
      "name": "sel0620_tarefa1_python.ipynb",
      "provenance": [],
      "authorship_tag": "ABX9TyMd6iNrI/uxuLaVV9ZJTPYR"
    },
    "kernelspec": {
      "name": "python3",
      "display_name": "Python 3"
    },
    "language_info": {
      "name": "python"
    }
  },
  "cells": [
    {
      "cell_type": "markdown",
      "metadata": {
        "id": "KZZqHvJOyvoe"
      },
      "source": [
        "# SEL0620 - Controle Digital\n",
        "\n",
        "**Nome do Aluno:** \n",
        "\n",
        "**N.USP:** \n",
        "\n",
        "**Exercício Individual**\n"
      ]
    },
    {
      "cell_type": "markdown",
      "metadata": {
        "id": "kck9J2i5Qz4Q"
      },
      "source": [
        "## Preparação do ambiente do Colab\n",
        "\n",
        "Instala a biblioteca de controle "
      ]
    },
    {
      "cell_type": "code",
      "metadata": {
        "id": "iAlcQkldyy4_",
        "colab": {
          "base_uri": "https://localhost:8080/"
        },
        "outputId": "6267970a-3d9e-4694-a179-3c66e2215d91"
      },
      "source": [
        "# !pip install slycot # biblioteca opcional\n",
        "!pip install control --quiet "
      ],
      "execution_count": 2,
      "outputs": [
        {
          "output_type": "stream",
          "text": [
            "\u001b[?25l\r\u001b[K     |█                               | 10 kB 19.7 MB/s eta 0:00:01\r\u001b[K     |██                              | 20 kB 25.4 MB/s eta 0:00:01\r\u001b[K     |███                             | 30 kB 29.0 MB/s eta 0:00:01\r\u001b[K     |███▉                            | 40 kB 19.6 MB/s eta 0:00:01\r\u001b[K     |████▉                           | 51 kB 8.6 MB/s eta 0:00:01\r\u001b[K     |█████▉                          | 61 kB 9.8 MB/s eta 0:00:01\r\u001b[K     |██████▊                         | 71 kB 9.4 MB/s eta 0:00:01\r\u001b[K     |███████▊                        | 81 kB 10.4 MB/s eta 0:00:01\r\u001b[K     |████████▊                       | 92 kB 11.0 MB/s eta 0:00:01\r\u001b[K     |█████████▋                      | 102 kB 9.0 MB/s eta 0:00:01\r\u001b[K     |██████████▋                     | 112 kB 9.0 MB/s eta 0:00:01\r\u001b[K     |███████████▋                    | 122 kB 9.0 MB/s eta 0:00:01\r\u001b[K     |████████████▋                   | 133 kB 9.0 MB/s eta 0:00:01\r\u001b[K     |█████████████▌                  | 143 kB 9.0 MB/s eta 0:00:01\r\u001b[K     |██████████████▌                 | 153 kB 9.0 MB/s eta 0:00:01\r\u001b[K     |███████████████▌                | 163 kB 9.0 MB/s eta 0:00:01\r\u001b[K     |████████████████▍               | 174 kB 9.0 MB/s eta 0:00:01\r\u001b[K     |█████████████████▍              | 184 kB 9.0 MB/s eta 0:00:01\r\u001b[K     |██████████████████▍             | 194 kB 9.0 MB/s eta 0:00:01\r\u001b[K     |███████████████████▎            | 204 kB 9.0 MB/s eta 0:00:01\r\u001b[K     |████████████████████▎           | 215 kB 9.0 MB/s eta 0:00:01\r\u001b[K     |█████████████████████▎          | 225 kB 9.0 MB/s eta 0:00:01\r\u001b[K     |██████████████████████▎         | 235 kB 9.0 MB/s eta 0:00:01\r\u001b[K     |███████████████████████▏        | 245 kB 9.0 MB/s eta 0:00:01\r\u001b[K     |████████████████████████▏       | 256 kB 9.0 MB/s eta 0:00:01\r\u001b[K     |█████████████████████████▏      | 266 kB 9.0 MB/s eta 0:00:01\r\u001b[K     |██████████████████████████      | 276 kB 9.0 MB/s eta 0:00:01\r\u001b[K     |███████████████████████████     | 286 kB 9.0 MB/s eta 0:00:01\r\u001b[K     |████████████████████████████    | 296 kB 9.0 MB/s eta 0:00:01\r\u001b[K     |█████████████████████████████   | 307 kB 9.0 MB/s eta 0:00:01\r\u001b[K     |██████████████████████████████  | 317 kB 9.0 MB/s eta 0:00:01\r\u001b[K     |███████████████████████████████ | 327 kB 9.0 MB/s eta 0:00:01\r\u001b[K     |███████████████████████████████▉| 337 kB 9.0 MB/s eta 0:00:01\r\u001b[K     |████████████████████████████████| 339 kB 9.0 MB/s \n",
            "\u001b[?25h  Building wheel for control (setup.py) ... \u001b[?25l\u001b[?25hdone\n"
          ],
          "name": "stdout"
        }
      ]
    },
    {
      "cell_type": "markdown",
      "metadata": {
        "id": "fRn18DmJzYmp"
      },
      "source": [
        "Carrega bibiotecas "
      ]
    },
    {
      "cell_type": "code",
      "metadata": {
        "id": "nB5sDg-5yMnt"
      },
      "source": [
        "import os\n",
        "import numpy as np\n",
        "import matplotlib.pyplot as plt\n",
        "from math import pi\n",
        "import control as ct\n",
        "from control.matlab import *"
      ],
      "execution_count": 3,
      "outputs": []
    },
    {
      "cell_type": "markdown",
      "metadata": {
        "id": "S1gBi6LuRwB4"
      },
      "source": [
        "## Discretização de Sinais\n",
        "\n",
        "Considere uma função senoidal de período $T=3$ segundos, e amplitude $A=2$:\n",
        "\n",
        "$$ f(t) = A \\sin( \\frac{2\\pi}{T} t) $$\n",
        "\n",
        "**Parte 1:** Simule o processo de discretização da função senoidal utilizando diferentes períodos de amostragem.\n",
        "\n",
        "Cada figura deve ter a função senoidal contínua representada na cor azul, e uma curva da função discretizada em vermelho. Não esqueça de colocar um título apropriado na figura, inserir legenda, e nomear os eixos dos gráficos."
      ]
    },
    {
      "cell_type": "markdown",
      "metadata": {
        "id": "0AtBz6A2T9aU"
      },
      "source": [
        "\n",
        "\n",
        "1.   Período de amostragem $T_0 = T/8$, onde o primeiro ponto é amostrado em $t=0$.\n",
        "\n"
      ]
    },
    {
      "cell_type": "code",
      "metadata": {
        "id": "eo6zSVbPaRz1"
      },
      "source": [
        "A = 2\n",
        "T = 3\n",
        "t_start = 0\n",
        "t_end = 4*T\n",
        "\n",
        "# Comando para plotar senoide 'quase' contínua, A é amplitude, T é o período\n",
        "def plota_senoide_continua(A=2,T=3,t_start=0,t_end=12):\n",
        "  # Plotar uma senoide\n",
        "  step = T/1000\n",
        "  t = np.arange(t_start,t_end+step,step) # gerar um conjunto de pontos no tempo\n",
        "  y = A*np.sin(2*pi*t/T);\n",
        "  plt.plot(t,y)"
      ],
      "execution_count": 4,
      "outputs": []
    },
    {
      "cell_type": "code",
      "metadata": {
        "id": "d08Oghjc0P5K",
        "colab": {
          "base_uri": "https://localhost:8080/",
          "height": 295
        },
        "outputId": "deef96ee-5c58-4713-9a27-4b1ffd0aca20"
      },
      "source": [
        "# Plotar a senoide continua\n",
        "plota_senoide_continua(A,T,t_start,t_end)\n",
        "\n",
        "# Simular um processo de amostragem com período de amostragem T0 = T/8\n",
        "T0 = T/8;\n",
        "t2 = np.arange(t_start,t_end+T0,T0) # instantes de tempo em que ocorre a discretização\n",
        "y2 = A*np.sin(2*pi*t2/T); \n",
        "plt.step(t2,y2,'r',where='post')\n",
        "\n",
        "# Formatar gráfico\n",
        "plt.ylabel('Amplitude (V)')\n",
        "plt.xlabel('Tempo (s)')\n",
        "plt.legend(['continuo','discreto'], loc='upper right')\n",
        "plt.title(\"Senoide com T=3s, A=2, Período de amostragem T/8, inicio em t=0\")\n",
        "plt.grid(True)\n",
        "#plt.axis([0,12,-2,2])\n"
      ],
      "execution_count": 5,
      "outputs": [
        {
          "output_type": "display_data",
          "data": {
            "image/png": "[encoded data removed]",
            "text/plain": [
              "<Figure size 432x288 with 1 Axes>"
            ]
          },
          "metadata": {
            "needs_background": "light"
          }
        }
      ]
    },
    {
      "cell_type": "markdown",
      "metadata": {
        "id": "8alv0aMIY1U1"
      },
      "source": [
        "2.   Período de amostragem $T_0 = T$, onde o primeiro ponto é amostrado em $t = 0$."
      ]
    },
    {
      "cell_type": "code",
      "metadata": {
        "id": "vCmv4txFoktI"
      },
      "source": [
        "# Inserir seu código\n"
      ],
      "execution_count": null,
      "outputs": []
    },
    {
      "cell_type": "markdown",
      "metadata": {
        "id": "DiGjQ_fWZJVy"
      },
      "source": [
        "3.   Período de amostragem $T_0 = T$, onde o primeiro ponto é amostrado em $t = T/8$."
      ]
    },
    {
      "cell_type": "code",
      "metadata": {
        "id": "dBQQ-6Y1opjm"
      },
      "source": [
        "# Inserir seu código\n"
      ],
      "execution_count": null,
      "outputs": []
    },
    {
      "cell_type": "markdown",
      "metadata": {
        "id": "xgN1FDnVZNo2"
      },
      "source": [
        "4.   Período de amostragem $T_0 = T/2$, onde o primeiro ponto é amostrado em $t = 0$."
      ]
    },
    {
      "cell_type": "code",
      "metadata": {
        "id": "zYVlw2uzosAG"
      },
      "source": [
        "# Inserir seu código\n"
      ],
      "execution_count": null,
      "outputs": []
    },
    {
      "cell_type": "markdown",
      "metadata": {
        "id": "APMi-gM7ZRcg"
      },
      "source": [
        "5.   Período de amostragem $T_0 = T/2$, onde o primeiro ponto é amostrado em $t = T/4$."
      ]
    },
    {
      "cell_type": "code",
      "metadata": {
        "id": "jAKh--pYotti"
      },
      "source": [
        "# Inserir seu código\n"
      ],
      "execution_count": null,
      "outputs": []
    },
    {
      "cell_type": "markdown",
      "metadata": {
        "id": "0axT99V-ZXDc"
      },
      "source": [
        "6.   Período de amostragem $T_0 = T/2$, onde o primeiro ponto é amostrado em $t = T/8$."
      ]
    },
    {
      "cell_type": "code",
      "metadata": {
        "id": "6JMiyeuSZctw"
      },
      "source": [
        "# Inserir seu código\n"
      ],
      "execution_count": null,
      "outputs": []
    },
    {
      "cell_type": "markdown",
      "metadata": {
        "id": "NyXakK2sZiDG"
      },
      "source": [
        "7.   Período de amostragem $T_0 = 0.9T/2$, onde o primeiro ponto é amostrado em $t = 0$."
      ]
    },
    {
      "cell_type": "code",
      "metadata": {
        "id": "ox9dxPkrZluq"
      },
      "source": [
        "# Inserir seu código\n"
      ],
      "execution_count": null,
      "outputs": []
    },
    {
      "cell_type": "markdown",
      "metadata": {
        "id": "hJIDPzHkmntP"
      },
      "source": [
        "8.   Período de amostragem $T_0 = T/4$, onde o primeiro ponto é amostrado em $t = 0$."
      ]
    },
    {
      "cell_type": "code",
      "metadata": {
        "id": "sdcqJdQjmvng"
      },
      "source": [
        "# Inserir seu código"
      ],
      "execution_count": null,
      "outputs": []
    },
    {
      "cell_type": "markdown",
      "metadata": {
        "id": "htOveMtIl8rm"
      },
      "source": [
        "## Análise dos resultados\n",
        "\n",
        "*   Quais dos sinais discretizados anteriormente você considera uma boa representação do sinal do original contínuo? Por que?\n",
        "\n",
        "<responder>\n",
        "\n"
      ]
    },
    {
      "cell_type": "markdown",
      "metadata": {
        "id": "VFdn_umNZmPL"
      },
      "source": [
        "\n",
        "\n",
        "---\n",
        "\n",
        "\n",
        "## Gerar Relatório em PDF\n",
        "\n",
        "As linhas a seguir só precisam ser executadas para gerar um pdf para entrega."
      ]
    },
    {
      "cell_type": "code",
      "metadata": {
        "id": "2XtP66uTMb6R",
        "colab": {
          "base_uri": "https://localhost:8080/"
        },
        "outputId": "f138a32f-21d2-4c81-db3e-68849c64bd7f"
      },
      "source": [
        "#Instalação de recursos para gerar PDF do relatório\n",
        "!apt-get install texlive texlive-xetex texlive-latex-extra pandoc\n",
        "!pip install pypandoc --quiet "
      ],
      "execution_count": null,
      "outputs": [
        {
          "output_type": "stream",
          "text": [
            "Reading package lists... Done\n",
            "Building dependency tree       \n",
            "Reading state information... Done\n",
            "pandoc is already the newest version (1.19.2.4~dfsg-1build4).\n",
            "texlive is already the newest version (2017.20180305-1).\n",
            "texlive-latex-extra is already the newest version (2017.20180305-2).\n",
            "texlive-xetex is already the newest version (2017.20180305-1).\n",
            "The following package was automatically installed and is no longer required:\n",
            "  libnvidia-common-460\n",
            "Use 'apt autoremove' to remove it.\n",
            "0 upgraded, 0 newly installed, 0 to remove and 40 not upgraded.\n"
          ],
          "name": "stdout"
        }
      ]
    },
    {
      "cell_type": "code",
      "metadata": {
        "colab": {
          "base_uri": "https://localhost:8080/"
        },
        "id": "j0xn0KkNNB5g",
        "outputId": "8701392c-df74-4974-fa6a-10a289895f4c"
      },
      "source": [
        "#Monta o google drive \n",
        "from google.colab import drive\n",
        "drive.mount('/content/drive')"
      ],
      "execution_count": null,
      "outputs": [
        {
          "output_type": "stream",
          "text": [
            "Drive already mounted at /content/drive; to attempt to forcibly remount, call drive.mount(\"/content/drive\", force_remount=True).\n"
          ],
          "name": "stdout"
        }
      ]
    },
    {
      "cell_type": "code",
      "metadata": {
        "colab": {
          "base_uri": "https://localhost:8080/"
        },
        "id": "CH9GpB6fMeFI",
        "outputId": "89ca6f6a-1f9e-4bd3-8c9a-71938ffcf659"
      },
      "source": [
        "#Conversão em PDF\n",
        "# Altere com comando a seguir com o path e o nome do deste notebbok no seu Google Drive\n",
        "!jupyter nbconvert --to PDF \"/content/drive/My Drive/Colab Notebooks/SEL0620/sel0620_tarefa1_python.ipynb\""
      ],
      "execution_count": null,
      "outputs": [
        {
          "output_type": "stream",
          "text": [
            "[NbConvertApp] Converting notebook /content/drive/My Drive/Colab Notebooks/SEL0620/sel0620_tarefa1_python.ipynb to PDF\n",
            "[NbConvertApp] Support files will be in sel0620_tarefa1_python_files/\n",
            "[NbConvertApp] Making directory ./sel0620_tarefa1_python_files\n",
            "[NbConvertApp] Making directory ./sel0620_tarefa1_python_files\n",
            "[NbConvertApp] Writing 54990 bytes to ./notebook.tex\n",
            "[NbConvertApp] Building PDF\n",
            "[NbConvertApp] Running xelatex 3 times: [u'xelatex', u'./notebook.tex', '-quiet']\n",
            "[NbConvertApp] Running bibtex 1 time: [u'bibtex', u'./notebook']\n",
            "[NbConvertApp] WARNING | bibtex had problems, most likely because there were no citations\n",
            "[NbConvertApp] PDF successfully created\n",
            "[NbConvertApp] Writing 85907 bytes to /content/drive/My Drive/Colab Notebooks/SEL0620/sel0620_tarefa1_python.pdf\n"
          ],
          "name": "stdout"
        }
      ]
    },
    {
      "cell_type": "markdown",
      "metadata": {
        "id": "HAZ220zIhKLN"
      },
      "source": [
        "**Antes de submeter no Moodle, altere o nome do arquivo PDF incluindo seu N.USP.**"
      ]
    }
  ]
}