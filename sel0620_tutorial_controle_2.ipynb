{
  "nbformat": 4,
  "nbformat_minor": 0,
  "metadata": {
    "colab": {
      "name": "sel0620_tutorial_controle_2.ipynb",
      "provenance": [],
      "authorship_tag": "ABX9TyPcAH0woqzTjbZcl29jVebm"
    },
    "kernelspec": {
      "name": "python3",
      "display_name": "Python 3"
    },
    "language_info": {
      "name": "python"
    }
  },
  "cells": [
    {
      "cell_type": "markdown",
      "metadata": {
        "id": "KZZqHvJOyvoe"
      },
      "source": [
        "# SEL0620 - Controle Digital\n",
        "\n",
        "## Tutorial da Biblioteca de Controle -- Parte 2\n",
        "\n",
        "Este tutorial mostra alguns exemplos do uso da [biblioteca de controle para Python](https://python-control.readthedocs.io/).\n",
        "\n",
        "### Preparação do Ambiente Colab\n",
        "\n",
        "O comando a seguir instala a biblioteca de controle no ambiente do Colab"
      ]
    },
    {
      "cell_type": "code",
      "metadata": {
        "id": "iAlcQkldyy4_",
        "colab": {
          "base_uri": "https://localhost:8080/"
        },
        "outputId": "9afa9f35-95cf-4755-9d75-02915f84bbed"
      },
      "source": [
        "# !pip install slycot -- quiet  # biblioteca opcional\n",
        "!pip install control --quiet"
      ],
      "execution_count": 1,
      "outputs": [
        {
          "output_type": "stream",
          "name": "stdout",
          "text": [
            "\u001b[?25l\r\u001b[K     |█                               | 10 kB 18.4 MB/s eta 0:00:01\r\u001b[K     |██                              | 20 kB 25.3 MB/s eta 0:00:01\r\u001b[K     |███                             | 30 kB 14.3 MB/s eta 0:00:01\r\u001b[K     |███▉                            | 40 kB 11.1 MB/s eta 0:00:01\r\u001b[K     |████▉                           | 51 kB 8.0 MB/s eta 0:00:01\r\u001b[K     |█████▉                          | 61 kB 8.0 MB/s eta 0:00:01\r\u001b[K     |██████▊                         | 71 kB 6.6 MB/s eta 0:00:01\r\u001b[K     |███████▊                        | 81 kB 7.4 MB/s eta 0:00:01\r\u001b[K     |████████▊                       | 92 kB 7.6 MB/s eta 0:00:01\r\u001b[K     |█████████▋                      | 102 kB 7.6 MB/s eta 0:00:01\r\u001b[K     |██████████▋                     | 112 kB 7.6 MB/s eta 0:00:01\r\u001b[K     |███████████▋                    | 122 kB 7.6 MB/s eta 0:00:01\r\u001b[K     |████████████▋                   | 133 kB 7.6 MB/s eta 0:00:01\r\u001b[K     |█████████████▌                  | 143 kB 7.6 MB/s eta 0:00:01\r\u001b[K     |██████████████▌                 | 153 kB 7.6 MB/s eta 0:00:01\r\u001b[K     |███████████████▌                | 163 kB 7.6 MB/s eta 0:00:01\r\u001b[K     |████████████████▍               | 174 kB 7.6 MB/s eta 0:00:01\r\u001b[K     |█████████████████▍              | 184 kB 7.6 MB/s eta 0:00:01\r\u001b[K     |██████████████████▍             | 194 kB 7.6 MB/s eta 0:00:01\r\u001b[K     |███████████████████▎            | 204 kB 7.6 MB/s eta 0:00:01\r\u001b[K     |████████████████████▎           | 215 kB 7.6 MB/s eta 0:00:01\r\u001b[K     |█████████████████████▎          | 225 kB 7.6 MB/s eta 0:00:01\r\u001b[K     |██████████████████████▎         | 235 kB 7.6 MB/s eta 0:00:01\r\u001b[K     |███████████████████████▏        | 245 kB 7.6 MB/s eta 0:00:01\r\u001b[K     |████████████████████████▏       | 256 kB 7.6 MB/s eta 0:00:01\r\u001b[K     |█████████████████████████▏      | 266 kB 7.6 MB/s eta 0:00:01\r\u001b[K     |██████████████████████████      | 276 kB 7.6 MB/s eta 0:00:01\r\u001b[K     |███████████████████████████     | 286 kB 7.6 MB/s eta 0:00:01\r\u001b[K     |████████████████████████████    | 296 kB 7.6 MB/s eta 0:00:01\r\u001b[K     |█████████████████████████████   | 307 kB 7.6 MB/s eta 0:00:01\r\u001b[K     |██████████████████████████████  | 317 kB 7.6 MB/s eta 0:00:01\r\u001b[K     |███████████████████████████████ | 327 kB 7.6 MB/s eta 0:00:01\r\u001b[K     |███████████████████████████████▉| 337 kB 7.6 MB/s eta 0:00:01\r\u001b[K     |████████████████████████████████| 339 kB 7.6 MB/s \n",
            "\u001b[?25h  Building wheel for control (setup.py) ... \u001b[?25l\u001b[?25hdone\n"
          ]
        }
      ]
    },
    {
      "cell_type": "markdown",
      "metadata": {
        "id": "fRn18DmJzYmp"
      },
      "source": [
        "Carrega as bibiotecas "
      ]
    },
    {
      "cell_type": "code",
      "metadata": {
        "id": "nB5sDg-5yMnt"
      },
      "source": [
        "import os\n",
        "import numpy as np\n",
        "import matplotlib.pyplot as plt\n",
        "from math import pi\n",
        "import control as ct\n",
        "from control.matlab import * #Esta opção permite que se use comandos disponíveis que são equivalentes aos comandos do Matlab"
      ],
      "execution_count": 2,
      "outputs": []
    },
    {
      "cell_type": "markdown",
      "metadata": {
        "id": "MxyrHeIZ5475"
      },
      "source": [
        "### Função de transferência\n",
        "\n",
        "Considere uma função de trânsferência de primeira ordem:\n",
        "\n",
        "$G(s) = K\\frac{1}{\\tau s + 1}$\n",
        "\n",
        "onde $\\tau$ é a constante de tempo, e $K$ é o ganho do sistema.\n",
        "\n",
        "A seguinte sequencia de código pode ser usada para representar $G(s)$ utilizando o comando [`tf`](https://python-control.readthedocs.io/en/0.9.0/generated/control.tf.html#control.tf) da biblioteca de controle em Python:"
      ]
    },
    {
      "cell_type": "code",
      "metadata": {
        "id": "d08Oghjc0P5K",
        "colab": {
          "base_uri": "https://localhost:8080/"
        },
        "outputId": "0ed2f21e-6ba9-4522-8c66-76036838ba0c"
      },
      "source": [
        "#Variável 's'\n",
        "s = tf('s')\n",
        "\n",
        "#Parâmetros do sistema\n",
        "tau = 0.1\n",
        "K = 5\n",
        "\n",
        "#Função de transferência\n",
        "G1 = K/(tau*s + 1) # utilizando a definição da variável s que foi feita\n",
        "G2 = tf([K],[tau, 1]) #utilizando um vetor/lista com os coeficientes do polinômio do numerador e do denominador\n",
        "\n",
        "#Mostra a função de transferência\n",
        "print('G(s) = ', G1)\n",
        "print('G(s) = ', G2)\n"
      ],
      "execution_count": 3,
      "outputs": [
        {
          "output_type": "stream",
          "name": "stdout",
          "text": [
            "G(s) =  \n",
            "    5\n",
            "---------\n",
            "0.1 s + 1\n",
            "\n",
            "G(s) =  \n",
            "    5\n",
            "---------\n",
            "0.1 s + 1\n",
            "\n"
          ]
        }
      ]
    },
    {
      "cell_type": "markdown",
      "metadata": {
        "id": "HFEBz9lrg6cC"
      },
      "source": [
        "### Função de Transferência Discreta\n",
        "\n",
        "O comando [`sample`](https://python-control.readthedocs.io/en/0.9.0/generated/control.TransferFunction.html), ou [`sc2d`](https://python-control.readthedocs.io/en/0.9.0/generated/control.matlab.c2d.html#control.matlab.c2d), pode ser usado para converter um sistema contínuo em discreto. O método de discretização pode ser escolhido, sendo que o padrão é discretização com retentor de ordem zero (zoh - *zero order holder*)."
      ]
    },
    {
      "cell_type": "code",
      "metadata": {
        "colab": {
          "base_uri": "https://localhost:8080/"
        },
        "id": "YehsRlCbht4R",
        "outputId": "35a90ece-1ea6-4ce4-c83c-e0df5838b913"
      },
      "source": [
        "Ta = 0.1 #Periodo de amostragem\n",
        "G1d = G1.sample(Ta,'zoh')\n",
        "print(G1d)\n",
        "\n",
        "G2d = c2d(G1,Ta,'zoh')\n",
        "print(G2d)"
      ],
      "execution_count": 7,
      "outputs": [
        {
          "output_type": "stream",
          "name": "stdout",
          "text": [
            "\n",
            "  3.161\n",
            "----------\n",
            "z - 0.3679\n",
            "\n",
            "dt = 0.1\n",
            "\n",
            "\n",
            "  3.161\n",
            "----------\n",
            "z - 0.3679\n",
            "\n",
            "dt = 0.1\n",
            "\n"
          ]
        }
      ]
    },
    {
      "cell_type": "markdown",
      "metadata": {
        "id": "rhfq8a8GKMsx"
      },
      "source": [
        "### Resposta transitória \n",
        "\n",
        "O comando [`step`](https://python-control.readthedocs.io/en/0.9.0/generated/control.matlab.step.html) é utilizado para obter a resposta do sistema contínuo ou discreto para uma entrada degrau."
      ]
    },
    {
      "cell_type": "code",
      "metadata": {
        "colab": {
          "base_uri": "https://localhost:8080/",
          "height": 295
        },
        "id": "vCmv4txFoktI",
        "outputId": "9cc6cbba-8287-41f1-f0cb-33723843b31b"
      },
      "source": [
        "# Resposta ao degrau unitário (continuo):\n",
        "y, t = step(G1)\n",
        "plt.plot(t, y)\n",
        "\n",
        "# Resposta ao degrau unitário (discreto):\n",
        "yd, td = step(G1d)\n",
        "plt.step(td, yd,'r',where='post') # veja a documentação do pyplot.step e exemplos\n",
        "\n",
        "# Para mostrar a entraga degrau no gráfico:\n",
        "A=1 # Amplitude do degrau\n",
        "u = A*np.ones(np.shape(y))\n",
        "plt.plot(t, u,'g')\n",
        "\n",
        "plt.ylabel('y(t)')\n",
        "plt.xlabel('t [s]')\n",
        "plt.title(\"Resposta do sistema para uma entrada degrau\")\n",
        "plt.legend(['$y(t)$','$u(t)$'])\n",
        "plt.grid(True)\n",
        "plt.axis([0,t[-1],0,1.1*y[-1]])\n",
        "plt.show(block=False)"
      ],
      "execution_count": 13,
      "outputs": [
        {
          "output_type": "display_data",
          "data": {
            "image/png": "[encoded data removed]",
            "text/plain": [
              "<Figure size 432x288 with 1 Axes>"
            ]
          },
          "metadata": {
            "needs_background": "light"
          }
        }
      ]
    },
    {
      "cell_type": "markdown",
      "metadata": {
        "id": "B7nR-UiXNkPN"
      },
      "source": [
        "Observe que para o exemplo, o sistema $G(s)$ possui um ganho DC, $K=5$, e por essa razão, a resposta estácionária do sistema é K vezes a amplitude do degrau. Para $u(t) = 1(t)$, $U(s) = 1/s$, e $y_{ss} = \\lim_{t\\rightarrow \\infty} y(t) = \\lim_{s\\rightarrow 0} sY(s) = K$.\n",
        "\n",
        "Observe também que para o sistema de primeira ordem, a resposta do sistema para uma entrada degrau unitária é $y(t) = 0.632K$ para $t=\\tau$."
      ]
    },
    {
      "cell_type": "code",
      "metadata": {
        "colab": {
          "base_uri": "https://localhost:8080/"
        },
        "id": "ZLTgECsxPICp",
        "outputId": "6233c745-95bc-4627-fc2b-207f8a4321f6"
      },
      "source": [
        "y_i, t_i = step(G1,tau)\n",
        "print('Para t=',t_i[-1],'y/K=',y_i[-1]/K)"
      ],
      "execution_count": 14,
      "outputs": [
        {
          "output_type": "stream",
          "name": "stdout",
          "text": [
            "Para t= 0.1 y/K= 0.632120558828557\n"
          ]
        }
      ]
    }
  ]
}